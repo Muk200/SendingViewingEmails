{
 "cells": [
  {
   "cell_type": "code",
   "execution_count": 1,
   "id": "24b3d5e8",
   "metadata": {},
   "outputs": [],
   "source": [
    "import smtplib\n",
    "# select server \n",
    "smtp_obj = smtplib.SMTP('smtp.gmail.com',587)"
   ]
  },
  {
   "cell_type": "code",
   "execution_count": 2,
   "id": "4a11a149",
   "metadata": {},
   "outputs": [
    {
     "data": {
      "text/plain": [
       "(250,\n",
       " b'smtp.gmail.com at your service, [2401:4900:1c63:57db:9d86:cdea:56b1:5709]\\nSIZE 35882577\\n8BITMIME\\nSTARTTLS\\nENHANCEDSTATUSCODES\\nPIPELINING\\nCHUNKING\\nSMTPUTF8')"
      ]
     },
     "execution_count": 2,
     "metadata": {},
     "output_type": "execute_result"
    }
   ],
   "source": [
    "# create serve and establish connection\n",
    "smtp_obj.ehlo()"
   ]
  },
  {
   "cell_type": "code",
   "execution_count": 3,
   "id": "3da20205",
   "metadata": {},
   "outputs": [
    {
     "data": {
      "text/plain": [
       "(220, b'2.0.0 Ready to start TLS')"
      ]
     },
     "execution_count": 3,
     "metadata": {},
     "output_type": "execute_result"
    }
   ],
   "source": [
    "#  these emails are encrypted cuz of (587)\n",
    "smtp_obj.starttls()"
   ]
  },
  {
   "cell_type": "code",
   "execution_count": 4,
   "id": "7caf4310",
   "metadata": {},
   "outputs": [
    {
     "name": "stdout",
     "output_type": "stream",
     "text": [
      "What is your password: gyui\n"
     ]
    }
   ],
   "source": [
    "# store email & password but not in script, getpasslib to hide password\n",
    "password = input('What is your password: ')"
   ]
  },
  {
   "cell_type": "code",
   "execution_count": 5,
   "id": "949c15f8",
   "metadata": {},
   "outputs": [],
   "source": [
    "import getpass "
   ]
  },
  {
   "cell_type": "code",
   "execution_count": 6,
   "id": "daf1e714",
   "metadata": {},
   "outputs": [
    {
     "name": "stdout",
     "output_type": "stream",
     "text": [
      "Enter the Password: ········\n"
     ]
    }
   ],
   "source": [
    "# Secure and hides password\n",
    "password = getpass.getpass('Enter the Password: ')"
   ]
  },
  {
   "cell_type": "code",
   "execution_count": 7,
   "id": "d73d0938",
   "metadata": {},
   "outputs": [
    {
     "name": "stdout",
     "output_type": "stream",
     "text": [
      "Email: ········\n",
      "Password: ········\n"
     ]
    },
    {
     "data": {
      "text/plain": [
       "(235, b'2.7.0 Accepted')"
      ]
     },
     "execution_count": 7,
     "metadata": {},
     "output_type": "execute_result"
    }
   ],
   "source": [
    "# to get the password use \"App passwords\" method to generate password\n",
    "email = getpass.getpass(\"Email: \")\n",
    "password = getpass.getpass(\"Password: \")\n",
    "smtp_obj.login(email, password)"
   ]
  },
  {
   "cell_type": "code",
   "execution_count": 8,
   "id": "a8de120b",
   "metadata": {},
   "outputs": [
    {
     "name": "stdout",
     "output_type": "stream",
     "text": [
      "enter the subject linelets see if this works\n",
      "enter the bodyhemloo to the test\n"
     ]
    },
    {
     "data": {
      "text/plain": [
       "{}"
      ]
     },
     "execution_count": 8,
     "metadata": {},
     "output_type": "execute_result"
    }
   ],
   "source": [
    "# sending\n",
    "from_address = email\n",
    "to_address = email\n",
    "subject = input(\"enter the subject line: \")\n",
    "message = input(\"enter the body: \")\n",
    "msg = \"Subject: \"+subject+'\\n'+message\n",
    "\n",
    "smtp_obj.sendmail(from_address,to_address,msg)"
   ]
  },
  {
   "cell_type": "code",
   "execution_count": 9,
   "id": "be0e855e",
   "metadata": {
    "scrolled": true
   },
   "outputs": [
    {
     "data": {
      "text/plain": [
       "(221,\n",
       " b'2.0.0 closing connection y6-20020a170902864600b001bc56c1a384sm3871158plt.277 - gsmtp')"
      ]
     },
     "execution_count": 9,
     "metadata": {},
     "output_type": "execute_result"
    }
   ],
   "source": [
    "# quit & close session\n",
    "smtp_obj.quit()"
   ]
  },
  {
   "cell_type": "code",
   "execution_count": 10,
   "id": "ff6d6eb9",
   "metadata": {},
   "outputs": [],
   "source": [
    "# to view or get info we can use two libs~ 1. imaplib, 2. email lib \n",
    "import imaplib\n",
    "M = imaplib.IMAP4_SSL('imap.gmail.com')"
   ]
  },
  {
   "cell_type": "code",
   "execution_count": 11,
   "id": "3adc2538",
   "metadata": {},
   "outputs": [],
   "source": [
    "import getpass"
   ]
  },
  {
   "cell_type": "code",
   "execution_count": 12,
   "id": "36f36f6a",
   "metadata": {},
   "outputs": [
    {
     "name": "stdout",
     "output_type": "stream",
     "text": [
      "Email: ········\n",
      "Password: ········\n"
     ]
    }
   ],
   "source": [
    "email = getpass.getpass(\"Email: \")\n",
    "password = getpass.getpass(\"Password: \")"
   ]
  },
  {
   "cell_type": "code",
   "execution_count": 13,
   "id": "95f29b8b",
   "metadata": {},
   "outputs": [
    {
     "data": {
      "text/plain": [
       "('OK', [b'mpasricha2003@gmail.com authenticated (Success)'])"
      ]
     },
     "execution_count": 13,
     "metadata": {},
     "output_type": "execute_result"
    }
   ],
   "source": [
    "M.login(email,password)"
   ]
  },
  {
   "cell_type": "code",
   "execution_count": 14,
   "id": "2ddc04c9",
   "metadata": {},
   "outputs": [
    {
     "data": {
      "text/plain": [
       "('OK',\n",
       " [b'(\\\\HasNoChildren) \"/\" \"INBOX\"',\n",
       "  b'(\\\\HasChildren \\\\Noselect) \"/\" \"[Gmail]\"',\n",
       "  b'(\\\\All \\\\HasNoChildren) \"/\" \"[Gmail]/All Mail\"',\n",
       "  b'(\\\\Drafts \\\\HasNoChildren) \"/\" \"[Gmail]/Drafts\"',\n",
       "  b'(\\\\HasNoChildren \\\\Important) \"/\" \"[Gmail]/Important\"',\n",
       "  b'(\\\\HasNoChildren \\\\Sent) \"/\" \"[Gmail]/Sent Mail\"',\n",
       "  b'(\\\\HasNoChildren \\\\Junk) \"/\" \"[Gmail]/Spam\"',\n",
       "  b'(\\\\Flagged \\\\HasNoChildren) \"/\" \"[Gmail]/Starred\"',\n",
       "  b'(\\\\HasNoChildren \\\\Trash) \"/\" \"[Gmail]/Trash\"',\n",
       "  b'(\\\\HasNoChildren) \"/\" \"check\"'])"
      ]
     },
     "execution_count": 14,
     "metadata": {},
     "output_type": "execute_result"
    }
   ],
   "source": [
    "# to see what all you can check\n",
    "M.list()"
   ]
  },
  {
   "cell_type": "code",
   "execution_count": 15,
   "id": "d3f22b26",
   "metadata": {},
   "outputs": [
    {
     "data": {
      "text/plain": [
       "('OK', [b'7769'])"
      ]
     },
     "execution_count": 15,
     "metadata": {},
     "output_type": "execute_result"
    }
   ],
   "source": [
    "M.select('inbox')"
   ]
  },
  {
   "cell_type": "code",
   "execution_count": 16,
   "id": "9a0ff426",
   "metadata": {},
   "outputs": [],
   "source": [
    "# check the syntax from the videos of zero to 100 python\n",
    "typ, data = M.search(None, 'SUBJECT \"NEW TEST PY\"')"
   ]
  },
  {
   "cell_type": "code",
   "execution_count": 17,
   "id": "bb3488c7",
   "metadata": {},
   "outputs": [
    {
     "data": {
      "text/plain": [
       "'OK'"
      ]
     },
     "execution_count": 17,
     "metadata": {},
     "output_type": "execute_result"
    }
   ],
   "source": [
    "typ"
   ]
  },
  {
   "cell_type": "code",
   "execution_count": 18,
   "id": "521cf6cd",
   "metadata": {},
   "outputs": [
    {
     "data": {
      "text/plain": [
       "[b'7767']"
      ]
     },
     "execution_count": 18,
     "metadata": {},
     "output_type": "execute_result"
    }
   ],
   "source": [
    "# this id is a referrence to email \n",
    "data "
   ]
  },
  {
   "cell_type": "code",
   "execution_count": 23,
   "id": "97f88d75",
   "metadata": {},
   "outputs": [],
   "source": [
    "# now to fetch it ~ RFC822\n",
    "email_id = data[0].split()"
   ]
  },
  {
   "cell_type": "code",
   "execution_count": 25,
   "id": "dd55d102",
   "metadata": {},
   "outputs": [],
   "source": [
    "if email_id:\n",
    "    email_id = email_id[-1]  # Get the last email in the list\n",
    "    result, email_data = M.fetch(email_id, '(RFC822)')\n",
    "    raw_email = email_data[0][1].decode('utf-8')  # Decode the email data"
   ]
  },
  {
   "cell_type": "code",
   "execution_count": 27,
   "id": "195d3e2b",
   "metadata": {},
   "outputs": [],
   "source": [
    "# get the actual msg\n",
    "import email "
   ]
  },
  {
   "cell_type": "code",
   "execution_count": 28,
   "id": "01e28476",
   "metadata": {},
   "outputs": [],
   "source": [
    "email_msg = email.message_from_string(raw_email)"
   ]
  },
  {
   "cell_type": "code",
   "execution_count": 29,
   "id": "564243d3",
   "metadata": {},
   "outputs": [
    {
     "name": "stdout",
     "output_type": "stream",
     "text": [
      "b'hello python\\r\\n'\n"
     ]
    }
   ],
   "source": [
    "# can also use text/html for link\n",
    "for part in email_msg.walk():\n",
    "    if part.get_content_type() == 'text/plain':\n",
    "        body = part.get_payload(decode = True)\n",
    "        print(body)"
   ]
  }
 ],
 "metadata": {
  "kernelspec": {
   "display_name": "Python 3 (ipykernel)",
   "language": "python",
   "name": "python3"
  },
  "language_info": {
   "codemirror_mode": {
    "name": "ipython",
    "version": 3
   },
   "file_extension": ".py",
   "mimetype": "text/x-python",
   "name": "python",
   "nbconvert_exporter": "python",
   "pygments_lexer": "ipython3",
   "version": "3.11.0"
  }
 },
 "nbformat": 4,
 "nbformat_minor": 5
}
